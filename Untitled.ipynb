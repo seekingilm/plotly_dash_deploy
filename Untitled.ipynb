{
 "cells": [
  {
   "cell_type": "code",
   "execution_count": 6,
   "id": "2abc9294-1b39-4950-a847-02c42de01e03",
   "metadata": {},
   "outputs": [
    {
     "ename": "ModuleNotFoundError",
     "evalue": "No module named 'pandas'",
     "output_type": "error",
     "traceback": [
      "\u001b[0;31m---------------------------------------------------------------------------\u001b[0m",
      "\u001b[0;31mModuleNotFoundError\u001b[0m                       Traceback (most recent call last)",
      "Cell \u001b[0;32mIn[6], line 1\u001b[0m\n\u001b[0;32m----> 1\u001b[0m \u001b[38;5;28;01mimport\u001b[39;00m \u001b[38;5;21;01mpandas\u001b[39;00m \u001b[38;5;28;01mas\u001b[39;00m \u001b[38;5;21;01mpd\u001b[39;00m\n\u001b[1;32m      2\u001b[0m \u001b[38;5;28;01mimport\u001b[39;00m \u001b[38;5;21;01mnumpy\u001b[39;00m \u001b[38;5;28;01mas\u001b[39;00m \u001b[38;5;21;01mnp\u001b[39;00m\n\u001b[1;32m      3\u001b[0m \u001b[38;5;28;01mimport\u001b[39;00m \u001b[38;5;21;01mplotly\u001b[39;00m\u001b[38;5;21;01m.\u001b[39;00m\u001b[38;5;21;01mexpress\u001b[39;00m \u001b[38;5;28;01mas\u001b[39;00m \u001b[38;5;21;01mpx\u001b[39;00m\n",
      "\u001b[0;31mModuleNotFoundError\u001b[0m: No module named 'pandas'"
     ]
    }
   ],
   "source": [
    "import pandas as pd\n",
    "import numpy as np\n",
    "import plotly.express as px\n",
    "\n",
    "df = pd.read_excel(\"Final Sheet.xlsx\", sheet_name=\"Data (2)\")\n",
    "\n",
    "# Making a new derived Roles column\n",
    "# Define conditions\n",
    "conditions = [\n",
    "    (df['Q3)  role_Owner']+df['Q3)  role_Manager']+df['Q3) role_Teacher'])>1,\n",
    "    (df['Q3)  role_Owner']==1),\n",
    "    (df['Q3)  role_Manager']==1),\n",
    "    df['Q3) role_Teacher']==1,\n",
    "]\n",
    "\n",
    "# Define corresponding values for the new column\n",
    "values = ['More than One Role', 'Owner', 'Manager','Teacher']\n",
    "\n",
    "# Apply the conditions\n",
    "df['Roles'] = np.select(conditions, values, default='No Match')\n",
    "df=df[df['Roles']!='No Match']\n",
    "\n",
    "# Values for aggregation\n",
    "values = ['Q9_Other_words','Q9_Supervisor_Words','Q9_Friends_Family_Words','Q9_Unknown_Words','Q9a) event_Notification_Cellphone_Alert_WORDS','Q9_Parent_Guardian_Words','Q9_television_Radio_words'] \n",
    "rows = ['Roles'] #rows\n",
    "\n",
    "#Pivot table\n",
    "pivot_table = pd.pivot_table(\n",
    "    df,\n",
    "    values= values,  \n",
    "    index= rows,  # Rows\n",
    "    columns=None,       # Columns\n",
    "    aggfunc='count'  # Aggregation functions\n",
    ")\n",
    "\n",
    "pivot_table_percentage = round(pivot_table.div(pivot_table.sum(axis=1), axis=0) * 100,2)\n",
    "pivot_table_percentage=pivot_table_percentage.reset_index()\n",
    "pivot_table_percentage.columns\n",
    "\n",
    "#Plotly bar plot\n",
    "fig1 = px.bar(pivot_table_percentage, x='Roles', y=values, title=\"Roles vs How they find out of an event could affect their facility\")\n",
    "\n",
    "#Figsize\n",
    "fig1.update_layout(\n",
    "    width=1000,  # Set the width of the chart (adjust as needed)\n",
    "    height=600,  # Set the height of the chart (adjust as needed)\n",
    ")\n",
    "\n",
    "fig1.show()"
   ]
  }
 ],
 "metadata": {
  "kernelspec": {
   "display_name": "Python 3 (ipykernel)",
   "language": "python",
   "name": "python3"
  },
  "language_info": {
   "codemirror_mode": {
    "name": "ipython",
    "version": 3
   },
   "file_extension": ".py",
   "mimetype": "text/x-python",
   "name": "python",
   "nbconvert_exporter": "python",
   "pygments_lexer": "ipython3",
   "version": "3.13.1"
  }
 },
 "nbformat": 4,
 "nbformat_minor": 5
}
